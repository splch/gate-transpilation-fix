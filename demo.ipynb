{
 "cells": [
  {
   "cell_type": "markdown",
   "metadata": {},
   "source": [
    "# Qiskit-IonQ Transpilation Bug"
   ]
  },
  {
   "cell_type": "code",
   "execution_count": 1,
   "metadata": {},
   "outputs": [],
   "source": [
    "%%capture\n",
    "\n",
    "%pip install -U qiskit qiskit_ionq matplotlib pylatexenc"
   ]
  },
  {
   "cell_type": "markdown",
   "metadata": {},
   "source": [
    "## Imports"
   ]
  },
  {
   "cell_type": "code",
   "execution_count": 2,
   "metadata": {},
   "outputs": [],
   "source": [
    "import os, qiskit_ionq\n",
    "from getpass import getpass\n",
    "\n",
    "# Before you begin, get your API key from https://cloud.ionq.com/settings/keys\n",
    "# Ensure your API key is stored as \"IONQ_API_KEY\" in your local environment.\n",
    "\n",
    "api_key = os.getenv(\"IONQ_API_KEY\") or getpass(\"Enter your IonQ API key: \")\n",
    "provider = qiskit_ionq.IonQProvider(api_key)\n",
    "\n",
    "# We need to specify a backend, which is where the circuit will be executed. In\n",
    "# this case we're using the `ionq_simulator`, but if you have QPU access you\n",
    "# can specify it here to run the job on a QPU directly.\n",
    "\n",
    "backend = provider.get_backend(\"ionq_qpu.aria-1\", gateset=\"native\")"
   ]
  },
  {
   "cell_type": "markdown",
   "metadata": {},
   "source": [
    "## Quantum Circuit"
   ]
  },
  {
   "cell_type": "code",
   "execution_count": 3,
   "metadata": {},
   "outputs": [],
   "source": [
    "from qiskit import QuantumCircuit\n",
    "\n",
    "# Now we set up our circuit. In this case, we're creating a circuit with two\n",
    "# qubits, applying an H gate to qubit-0, a CXGate to both, then measuring.\n",
    "\n",
    "circuit = QuantumCircuit(2, name=\"Transpiled Qiskit Circuit\")\n",
    "circuit.h(0)\n",
    "circuit.cx(0, 1)\n",
    "circuit.measure_all()"
   ]
  },
  {
   "cell_type": "code",
   "execution_count": 4,
   "metadata": {},
   "outputs": [
    {
     "name": "stderr",
     "output_type": "stream",
     "text": [
      "/opt/homebrew/lib/python3.11/site-packages/qiskit/visualization/circuit/matplotlib.py:266: FutureWarning: The default matplotlib drawer scheme will be changed to \"iqp\" in a following release. To silence this warning, specify the current default explicitly as style=\"clifford\", or the new default as style=\"iqp\".\n",
      "  self._style, def_font_ratio = load_style(self._style)\n"
     ]
    },
    {
     "data": {
      "image/png": "[encoded data removed]",
      "text/plain": [
       "<Figure size 580.387x284.278 with 1 Axes>"
      ]
     },
     "execution_count": 4,
     "metadata": {},
     "output_type": "execute_result"
    }
   ],
   "source": [
    "# Before submitting the job, we can visualize the circuit using draw().\n",
    "# We're using matplotlib to create a pretty graphic, but draw() defaults to\n",
    "# plaintext and supports other libraries like LaTeX.\n",
    "\n",
    "circuit.draw(\"mpl\")"
   ]
  },
  {
   "cell_type": "markdown",
   "metadata": {},
   "source": [
    "## Transpiled Quantum Circuit"
   ]
  },
  {
   "cell_type": "code",
   "execution_count": 5,
   "metadata": {},
   "outputs": [
    {
     "ename": "TranspilerError",
     "evalue": "\"Unable to translate the operations in the circuit: ['h', 'barrier', 'measure', 'cx'] to the backend's (or manually specified) target basis: ['barrier', 'snapshot', 'zz', 'measure', 'delay', 'reset', 'ms', 'gpi2', 'gpi']. This likely means the target basis is not universal or there are additional equivalence rules needed in the EquivalenceLibrary being used. For more details on this error see: https://qiskit.org/documentation/stubs/qiskit.transpiler.passes.BasisTranslator.html#translation_errors\"",
     "output_type": "error",
     "traceback": [
      "\u001b[0;31m---------------------------------------------------------------------------\u001b[0m",
      "\u001b[0;31mTranspilerError\u001b[0m                           Traceback (most recent call last)",
      "File \u001b[0;32m/opt/homebrew/lib/python3.11/site-packages/qiskit/transpiler/runningpassmanager.py:161\u001b[0m, in \u001b[0;36m_replace_error.<locals>.wrapper\u001b[0;34m(*meth_args, **meth_kwargs)\u001b[0m\n\u001b[1;32m    160\u001b[0m \u001b[39mtry\u001b[39;00m:\n\u001b[0;32m--> 161\u001b[0m     \u001b[39mreturn\u001b[39;00m meth(\u001b[39m*\u001b[39;49mmeth_args, \u001b[39m*\u001b[39;49m\u001b[39m*\u001b[39;49mmeth_kwargs)\n\u001b[1;32m    162\u001b[0m \u001b[39mexcept\u001b[39;00m PassManagerError \u001b[39mas\u001b[39;00m ex:\n",
      "File \u001b[0;32m/opt/homebrew/lib/python3.11/site-packages/qiskit/passmanager/base_tasks.py:218\u001b[0m, in \u001b[0;36mBaseController.execute\u001b[0;34m(self, passmanager_ir, state, callback)\u001b[0m\n\u001b[1;32m    217\u001b[0m \u001b[39mwhile\u001b[39;00m \u001b[39mTrue\u001b[39;00m:\n\u001b[0;32m--> 218\u001b[0m     passmanager_ir, state \u001b[39m=\u001b[39m next_task\u001b[39m.\u001b[39;49mexecute(\n\u001b[1;32m    219\u001b[0m         passmanager_ir\u001b[39m=\u001b[39;49mpassmanager_ir,\n\u001b[1;32m    220\u001b[0m         state\u001b[39m=\u001b[39;49mstate,\n\u001b[1;32m    221\u001b[0m         callback\u001b[39m=\u001b[39;49mcallback,\n\u001b[1;32m    222\u001b[0m     )\n\u001b[1;32m    223\u001b[0m     \u001b[39mtry\u001b[39;00m:\n\u001b[1;32m    224\u001b[0m         \u001b[39m# Sending the object through the generator implies the custom controllers\u001b[39;00m\n\u001b[1;32m    225\u001b[0m         \u001b[39m# can always rely on the latest data to choose the next task to run.\u001b[39;00m\n",
      "File \u001b[0;32m/opt/homebrew/lib/python3.11/site-packages/qiskit/transpiler/basepasses.py:195\u001b[0m, in \u001b[0;36mTransformationPass.execute\u001b[0;34m(self, passmanager_ir, state, callback)\u001b[0m\n\u001b[1;32m    189\u001b[0m \u001b[39mdef\u001b[39;00m \u001b[39mexecute\u001b[39m(\n\u001b[1;32m    190\u001b[0m     \u001b[39mself\u001b[39m,\n\u001b[1;32m    191\u001b[0m     passmanager_ir: PassManagerIR,\n\u001b[1;32m    192\u001b[0m     state: PassManagerState,\n\u001b[1;32m    193\u001b[0m     callback: Callable \u001b[39m=\u001b[39m \u001b[39mNone\u001b[39;00m,\n\u001b[1;32m    194\u001b[0m ) \u001b[39m-\u001b[39m\u001b[39m>\u001b[39m \u001b[39mtuple\u001b[39m[PassManagerIR, PassManagerState]:\n\u001b[0;32m--> 195\u001b[0m     new_dag, state \u001b[39m=\u001b[39m \u001b[39msuper\u001b[39;49m()\u001b[39m.\u001b[39;49mexecute(\n\u001b[1;32m    196\u001b[0m         passmanager_ir\u001b[39m=\u001b[39;49mpassmanager_ir,\n\u001b[1;32m    197\u001b[0m         state\u001b[39m=\u001b[39;49mstate,\n\u001b[1;32m    198\u001b[0m         callback\u001b[39m=\u001b[39;49mcallback,\n\u001b[1;32m    199\u001b[0m     )\n\u001b[1;32m    201\u001b[0m     \u001b[39mif\u001b[39;00m state\u001b[39m.\u001b[39mworkflow_status\u001b[39m.\u001b[39mprevious_run \u001b[39m==\u001b[39m RunState\u001b[39m.\u001b[39mSUCCESS:\n",
      "File \u001b[0;32m/opt/homebrew/lib/python3.11/site-packages/qiskit/passmanager/base_tasks.py:98\u001b[0m, in \u001b[0;36mGenericPass.execute\u001b[0;34m(self, passmanager_ir, state, callback)\u001b[0m\n\u001b[1;32m     97\u001b[0m \u001b[39mif\u001b[39;00m \u001b[39mself\u001b[39m \u001b[39mnot\u001b[39;00m \u001b[39min\u001b[39;00m state\u001b[39m.\u001b[39mworkflow_status\u001b[39m.\u001b[39mcompleted_passes:\n\u001b[0;32m---> 98\u001b[0m     ret \u001b[39m=\u001b[39m \u001b[39mself\u001b[39;49m\u001b[39m.\u001b[39;49mrun(passmanager_ir)\n\u001b[1;32m     99\u001b[0m     run_state \u001b[39m=\u001b[39m RunState\u001b[39m.\u001b[39mSUCCESS\n",
      "File \u001b[0;32m/opt/homebrew/lib/python3.11/site-packages/qiskit/transpiler/passes/basis/basis_translator.py:217\u001b[0m, in \u001b[0;36mBasisTranslator.run\u001b[0;34m(self, dag)\u001b[0m\n\u001b[1;32m    216\u001b[0m \u001b[39mif\u001b[39;00m basis_transforms \u001b[39mis\u001b[39;00m \u001b[39mNone\u001b[39;00m:\n\u001b[0;32m--> 217\u001b[0m     \u001b[39mraise\u001b[39;00m TranspilerError(\n\u001b[1;32m    218\u001b[0m         \u001b[39m\"\u001b[39m\u001b[39mUnable to translate the operations in the circuit: \u001b[39m\u001b[39m\"\u001b[39m\n\u001b[1;32m    219\u001b[0m         \u001b[39mf\u001b[39m\u001b[39m\"\u001b[39m\u001b[39m{\u001b[39;00m[x[\u001b[39m0\u001b[39m]\u001b[39m \u001b[39m\u001b[39mfor\u001b[39;00m\u001b[39m \u001b[39mx\u001b[39m \u001b[39m\u001b[39min\u001b[39;00m\u001b[39m \u001b[39msource_basis]\u001b[39m}\u001b[39;00m\u001b[39m to the backend\u001b[39m\u001b[39m'\u001b[39m\u001b[39ms (or manually specified) target \u001b[39m\u001b[39m\"\u001b[39m\n\u001b[1;32m    220\u001b[0m         \u001b[39mf\u001b[39m\u001b[39m\"\u001b[39m\u001b[39mbasis: \u001b[39m\u001b[39m{\u001b[39;00m\u001b[39mlist\u001b[39m(target_basis)\u001b[39m}\u001b[39;00m\u001b[39m. This likely means the target basis is not universal \u001b[39m\u001b[39m\"\u001b[39m\n\u001b[1;32m    221\u001b[0m         \u001b[39m\"\u001b[39m\u001b[39mor there are additional equivalence rules needed in the EquivalenceLibrary being \u001b[39m\u001b[39m\"\u001b[39m\n\u001b[1;32m    222\u001b[0m         \u001b[39m\"\u001b[39m\u001b[39mused. For more details on this error see: \u001b[39m\u001b[39m\"\u001b[39m\n\u001b[1;32m    223\u001b[0m         \u001b[39m\"\u001b[39m\u001b[39mhttps://qiskit.org/documentation/stubs/qiskit.transpiler.passes.BasisTranslator.\u001b[39m\u001b[39m\"\u001b[39m\n\u001b[1;32m    224\u001b[0m         \u001b[39m\"\u001b[39m\u001b[39mhtml#translation_errors\u001b[39m\u001b[39m\"\u001b[39m\n\u001b[1;32m    225\u001b[0m     )\n\u001b[1;32m    227\u001b[0m \u001b[39m# Compose found path into a set of instruction substitution rules.\u001b[39;00m\n",
      "\u001b[0;31mTranspilerError\u001b[0m: \"Unable to translate the operations in the circuit: ['h', 'barrier', 'measure', 'cx'] to the backend's (or manually specified) target basis: ['barrier', 'snapshot', 'zz', 'measure', 'delay', 'reset', 'ms', 'gpi2', 'gpi']. This likely means the target basis is not universal or there are additional equivalence rules needed in the EquivalenceLibrary being used. For more details on this error see: https://qiskit.org/documentation/stubs/qiskit.transpiler.passes.BasisTranslator.html#translation_errors\"",
      "\nThe above exception was the direct cause of the following exception:\n",
      "\u001b[0;31mTranspilerError\u001b[0m                           Traceback (most recent call last)",
      "File \u001b[0;32m/opt/homebrew/lib/python3.11/site-packages/qiskit/transpiler/passmanager.py:551\u001b[0m, in \u001b[0;36m_replace_error.<locals>.wrapper\u001b[0;34m(*meth_args, **meth_kwargs)\u001b[0m\n\u001b[1;32m    550\u001b[0m \u001b[39mtry\u001b[39;00m:\n\u001b[0;32m--> 551\u001b[0m     \u001b[39mreturn\u001b[39;00m meth(\u001b[39m*\u001b[39;49mmeth_args, \u001b[39m*\u001b[39;49m\u001b[39m*\u001b[39;49mmeth_kwargs)\n\u001b[1;32m    552\u001b[0m \u001b[39mexcept\u001b[39;00m PassManagerError \u001b[39mas\u001b[39;00m ex:\n",
      "File \u001b[0;32m/opt/homebrew/lib/python3.11/site-packages/qiskit/transpiler/passmanager.py:291\u001b[0m, in \u001b[0;36mPassManager.run\u001b[0;34m(self, circuits, output_name, callback)\u001b[0m\n\u001b[1;32m    289\u001b[0m     callback \u001b[39m=\u001b[39m _legacy_style_callback(callback)\n\u001b[0;32m--> 291\u001b[0m \u001b[39mreturn\u001b[39;00m \u001b[39msuper\u001b[39;49m()\u001b[39m.\u001b[39;49mrun(\n\u001b[1;32m    292\u001b[0m     in_programs\u001b[39m=\u001b[39;49mcircuits,\n\u001b[1;32m    293\u001b[0m     callback\u001b[39m=\u001b[39;49mcallback,\n\u001b[1;32m    294\u001b[0m     output_name\u001b[39m=\u001b[39;49moutput_name,\n\u001b[1;32m    295\u001b[0m )\n",
      "File \u001b[0;32m/opt/homebrew/lib/python3.11/site-packages/qiskit/passmanager/passmanager.py:222\u001b[0m, in \u001b[0;36mBasePassManager.run\u001b[0;34m(self, in_programs, callback, **kwargs)\u001b[0m\n\u001b[1;32m    221\u001b[0m \u001b[39mif\u001b[39;00m \u001b[39mlen\u001b[39m(in_programs) \u001b[39m==\u001b[39m \u001b[39m1\u001b[39m:\n\u001b[0;32m--> 222\u001b[0m     out_program \u001b[39m=\u001b[39m _run_workflow(\n\u001b[1;32m    223\u001b[0m         program\u001b[39m=\u001b[39;49min_programs[\u001b[39m0\u001b[39;49m],\n\u001b[1;32m    224\u001b[0m         pass_manager\u001b[39m=\u001b[39;49m\u001b[39mself\u001b[39;49m,\n\u001b[1;32m    225\u001b[0m         callback\u001b[39m=\u001b[39;49mcallback,\n\u001b[1;32m    226\u001b[0m         \u001b[39m*\u001b[39;49m\u001b[39m*\u001b[39;49mkwargs,\n\u001b[1;32m    227\u001b[0m     )\n\u001b[1;32m    228\u001b[0m     \u001b[39mif\u001b[39;00m is_list:\n",
      "File \u001b[0;32m/opt/homebrew/lib/python3.11/site-packages/qiskit/passmanager/passmanager.py:284\u001b[0m, in \u001b[0;36m_run_workflow\u001b[0;34m(program, pass_manager, **kwargs)\u001b[0m\n\u001b[1;32m    280\u001b[0m passmanager_ir \u001b[39m=\u001b[39m pass_manager\u001b[39m.\u001b[39m_passmanager_frontend(\n\u001b[1;32m    281\u001b[0m     input_program\u001b[39m=\u001b[39mprogram,\n\u001b[1;32m    282\u001b[0m     \u001b[39m*\u001b[39m\u001b[39m*\u001b[39mkwargs,\n\u001b[1;32m    283\u001b[0m )\n\u001b[0;32m--> 284\u001b[0m passmanager_ir, _ \u001b[39m=\u001b[39m flow_controller\u001b[39m.\u001b[39;49mexecute(\n\u001b[1;32m    285\u001b[0m     passmanager_ir\u001b[39m=\u001b[39;49mpassmanager_ir,\n\u001b[1;32m    286\u001b[0m     state\u001b[39m=\u001b[39;49mPassManagerState(\n\u001b[1;32m    287\u001b[0m         workflow_status\u001b[39m=\u001b[39;49minitial_status,\n\u001b[1;32m    288\u001b[0m         property_set\u001b[39m=\u001b[39;49mpass_manager\u001b[39m.\u001b[39;49mproperty_set,\n\u001b[1;32m    289\u001b[0m     ),\n\u001b[1;32m    290\u001b[0m     callback\u001b[39m=\u001b[39;49mkwargs\u001b[39m.\u001b[39;49mget(\u001b[39m\"\u001b[39;49m\u001b[39mcallback\u001b[39;49m\u001b[39m\"\u001b[39;49m, \u001b[39mNone\u001b[39;49;00m),\n\u001b[1;32m    291\u001b[0m )\n\u001b[1;32m    292\u001b[0m out_program \u001b[39m=\u001b[39m pass_manager\u001b[39m.\u001b[39m_passmanager_backend(\n\u001b[1;32m    293\u001b[0m     passmanager_ir\u001b[39m=\u001b[39mpassmanager_ir,\n\u001b[1;32m    294\u001b[0m     in_program\u001b[39m=\u001b[39mprogram,\n\u001b[1;32m    295\u001b[0m     \u001b[39m*\u001b[39m\u001b[39m*\u001b[39mkwargs,\n\u001b[1;32m    296\u001b[0m )\n",
      "File \u001b[0;32m/opt/homebrew/lib/python3.11/site-packages/qiskit/transpiler/runningpassmanager.py:163\u001b[0m, in \u001b[0;36m_replace_error.<locals>.wrapper\u001b[0;34m(*meth_args, **meth_kwargs)\u001b[0m\n\u001b[1;32m    162\u001b[0m \u001b[39mexcept\u001b[39;00m PassManagerError \u001b[39mas\u001b[39;00m ex:\n\u001b[0;32m--> 163\u001b[0m     \u001b[39mraise\u001b[39;00m TranspilerError(ex\u001b[39m.\u001b[39mmessage) \u001b[39mfrom\u001b[39;00m \u001b[39mex\u001b[39;00m\n",
      "\u001b[0;31mTranspilerError\u001b[0m: \"Unable to translate the operations in the circuit: ['h', 'barrier', 'measure', 'cx'] to the backend's (or manually specified) target basis: ['barrier', 'snapshot', 'zz', 'measure', 'delay', 'reset', 'ms', 'gpi2', 'gpi']. This likely means the target basis is not universal or there are additional equivalence rules needed in the EquivalenceLibrary being used. For more details on this error see: https://qiskit.org/documentation/stubs/qiskit.transpiler.passes.BasisTranslator.html#translation_errors\"",
      "\nThe above exception was the direct cause of the following exception:\n",
      "\u001b[0;31mTranspilerError\u001b[0m                           Traceback (most recent call last)",
      "\u001b[1;32m/Users/churchill/GitHub/gate-transpilation-fix/demo.ipynb Cell 9\u001b[0m line \u001b[0;36m6\n\u001b[1;32m      <a href='vscode-notebook-cell:/Users/churchill/GitHub/gate-transpilation-fix/demo.ipynb#X11sZmlsZQ%3D%3D?line=0'>1</a>\u001b[0m \u001b[39mfrom\u001b[39;00m \u001b[39mqiskit\u001b[39;00m \u001b[39mimport\u001b[39;00m transpile\n\u001b[1;32m      <a href='vscode-notebook-cell:/Users/churchill/GitHub/gate-transpilation-fix/demo.ipynb#X11sZmlsZQ%3D%3D?line=2'>3</a>\u001b[0m \u001b[39m# We can transpile the circuit to Aria-1's native gateset\u001b[39;00m\n\u001b[1;32m      <a href='vscode-notebook-cell:/Users/churchill/GitHub/gate-transpilation-fix/demo.ipynb#X11sZmlsZQ%3D%3D?line=3'>4</a>\u001b[0m \u001b[39m# https://github.com/qiskit-community/qiskit-ionq/blob/main/qiskit_ionq/helpers.py#L117-L128\u001b[39;00m\n\u001b[0;32m----> <a href='vscode-notebook-cell:/Users/churchill/GitHub/gate-transpilation-fix/demo.ipynb#X11sZmlsZQ%3D%3D?line=5'>6</a>\u001b[0m transpiled_circuit \u001b[39m=\u001b[39m transpile(circuit, backend\u001b[39m=\u001b[39;49mbackend)\n",
      "File \u001b[0;32m/opt/homebrew/lib/python3.11/site-packages/qiskit/compiler/transpiler.py:428\u001b[0m, in \u001b[0;36mtranspile\u001b[0;34m(circuits, backend, basis_gates, inst_map, coupling_map, backend_properties, initial_layout, layout_method, routing_method, translation_method, scheduling_method, instruction_durations, dt, approximation_degree, timing_constraints, seed_transpiler, optimization_level, callback, output_name, unitary_synthesis_method, unitary_synthesis_plugin_config, target, hls_config, init_method, optimization_method, ignore_backend_supplied_default_methods)\u001b[0m\n\u001b[1;32m    400\u001b[0m         instruction_durations \u001b[39m=\u001b[39m _parse_instruction_durations(\n\u001b[1;32m    401\u001b[0m             backend, instruction_durations, dt, circuits[\u001b[39m0\u001b[39m]\n\u001b[1;32m    402\u001b[0m         )\n\u001b[1;32m    404\u001b[0m pm \u001b[39m=\u001b[39m generate_preset_pass_manager(\n\u001b[1;32m    405\u001b[0m     optimization_level,\n\u001b[1;32m    406\u001b[0m     backend\u001b[39m=\u001b[39mbackend,\n\u001b[0;32m   (...)\u001b[0m\n\u001b[1;32m    426\u001b[0m     _skip_target\u001b[39m=\u001b[39m_skip_target,\n\u001b[1;32m    427\u001b[0m )\n\u001b[0;32m--> 428\u001b[0m out_circuits \u001b[39m=\u001b[39m pm\u001b[39m.\u001b[39;49mrun(circuits, callback\u001b[39m=\u001b[39;49mcallback)\n\u001b[1;32m    429\u001b[0m \u001b[39mfor\u001b[39;00m name, circ \u001b[39min\u001b[39;00m \u001b[39mzip\u001b[39m(output_name, out_circuits):\n\u001b[1;32m    430\u001b[0m     circ\u001b[39m.\u001b[39mname \u001b[39m=\u001b[39m name\n",
      "File \u001b[0;32m/opt/homebrew/lib/python3.11/site-packages/qiskit/transpiler/passmanager.py:532\u001b[0m, in \u001b[0;36mStagedPassManager.run\u001b[0;34m(self, circuits, output_name, callback)\u001b[0m\n\u001b[1;32m    525\u001b[0m \u001b[39mdef\u001b[39;00m \u001b[39mrun\u001b[39m(\n\u001b[1;32m    526\u001b[0m     \u001b[39mself\u001b[39m,\n\u001b[1;32m    527\u001b[0m     circuits: _CircuitsT,\n\u001b[1;32m    528\u001b[0m     output_name: \u001b[39mstr\u001b[39m \u001b[39m|\u001b[39m \u001b[39mNone\u001b[39;00m \u001b[39m=\u001b[39m \u001b[39mNone\u001b[39;00m,\n\u001b[1;32m    529\u001b[0m     callback: Callable \u001b[39m|\u001b[39m \u001b[39mNone\u001b[39;00m \u001b[39m=\u001b[39m \u001b[39mNone\u001b[39;00m,\n\u001b[1;32m    530\u001b[0m ) \u001b[39m-\u001b[39m\u001b[39m>\u001b[39m _CircuitsT:\n\u001b[1;32m    531\u001b[0m     \u001b[39mself\u001b[39m\u001b[39m.\u001b[39m_update_passmanager()\n\u001b[0;32m--> 532\u001b[0m     \u001b[39mreturn\u001b[39;00m \u001b[39msuper\u001b[39;49m()\u001b[39m.\u001b[39;49mrun(circuits, output_name, callback)\n",
      "File \u001b[0;32m/opt/homebrew/lib/python3.11/site-packages/qiskit/transpiler/passmanager.py:553\u001b[0m, in \u001b[0;36m_replace_error.<locals>.wrapper\u001b[0;34m(*meth_args, **meth_kwargs)\u001b[0m\n\u001b[1;32m    551\u001b[0m     \u001b[39mreturn\u001b[39;00m meth(\u001b[39m*\u001b[39mmeth_args, \u001b[39m*\u001b[39m\u001b[39m*\u001b[39mmeth_kwargs)\n\u001b[1;32m    552\u001b[0m \u001b[39mexcept\u001b[39;00m PassManagerError \u001b[39mas\u001b[39;00m ex:\n\u001b[0;32m--> 553\u001b[0m     \u001b[39mraise\u001b[39;00m TranspilerError(ex\u001b[39m.\u001b[39mmessage) \u001b[39mfrom\u001b[39;00m \u001b[39mex\u001b[39;00m\n",
      "\u001b[0;31mTranspilerError\u001b[0m: \"Unable to translate the operations in the circuit: ['h', 'barrier', 'measure', 'cx'] to the backend's (or manually specified) target basis: ['barrier', 'snapshot', 'zz', 'measure', 'delay', 'reset', 'ms', 'gpi2', 'gpi']. This likely means the target basis is not universal or there are additional equivalence rules needed in the EquivalenceLibrary being used. For more details on this error see: https://qiskit.org/documentation/stubs/qiskit.transpiler.passes.BasisTranslator.html#translation_errors\""
     ]
    }
   ],
   "source": [
    "from qiskit import transpile\n",
    "\n",
    "# We can transpile the circuit to Aria-1's native gateset\n",
    "# https://github.com/qiskit-community/qiskit-ionq/blob/main/qiskit_ionq/helpers.py#L117-L128\n",
    "\n",
    "transpiled_circuit = transpile(circuit, backend=backend)"
   ]
  },
  {
   "cell_type": "markdown",
   "metadata": {},
   "source": [
    "## Run Transpiled Circuit"
   ]
  },
  {
   "cell_type": "raw",
   "metadata": {},
   "source": [
    "from qiskit.visualization import plot_histogram\n",
    "\n",
    "# Now we'll send the job to our backend for processing.\n",
    "\n",
    "job = backend.run(transpiled_circuit)\n",
    "\n",
    "# And once the job has run, we can plot the results.\n",
    "\n",
    "plot_histogram(job.result().get_counts())"
   ]
  }
 ],
 "metadata": {
  "kernelspec": {
   "display_name": "Python 3",
   "language": "python",
   "name": "python3"
  },
  "language_info": {
   "codemirror_mode": {
    "name": "ipython",
    "version": 3
   },
   "file_extension": ".py",
   "mimetype": "text/x-python",
   "name": "python",
   "nbconvert_exporter": "python",
   "pygments_lexer": "ipython3",
   "version": "3.11.6"
  }
 },
 "nbformat": 4,
 "nbformat_minor": 2
}
