{
 "cells": [
  {
   "cell_type": "markdown",
   "metadata": {},
   "source": [
    "# Qiskit-IonQ Transpilation Bug"
   ]
  },
  {
   "cell_type": "raw",
   "metadata": {},
   "source": [
    "%%capture\n",
    "\n",
    "%pip install -U cirq"
   ]
  },
  {
   "cell_type": "markdown",
   "metadata": {},
   "source": [
    "## Imports"
   ]
  },
  {
   "cell_type": "code",
   "execution_count": 1,
   "metadata": {},
   "outputs": [],
   "source": [
    "import os, cirq, cirq_ionq\n",
    "from cirq_ionq.ionq_native_gates import GPIGate, GPI2Gate, MSGate\n",
    "from getpass import getpass\n",
    "\n",
    "# Before you begin, get your API key from https://cloud.ionq.com/settings/keys\n",
    "# Ensure your API key is stored as \"IONQ_API_KEY\" in your local environment.\n",
    "\n",
    "api_key = os.getenv(\"IONQ_API_KEY\") or getpass(\"Enter your IonQ API key: \")\n",
    "service = cirq_ionq.Service(api_key=api_key)\n",
    "\n",
    "# We need to specify a backend, which is where the circuit will be executed. In\n",
    "# this case we're using the `simulator`, but if you have QPU access you\n",
    "# can specify it here to run the job on a QPU directly.\n",
    "\n",
    "backend = \"simulator\""
   ]
  },
  {
   "cell_type": "markdown",
   "metadata": {},
   "source": [
    "## Quantum Circuit"
   ]
  },
  {
   "cell_type": "code",
   "execution_count": 2,
   "metadata": {},
   "outputs": [],
   "source": [
    "# Now we set up our circuit. In this case, we're creating a circuit with two\n",
    "# qubits, applying an H gate to qubit-0, a CXGate to both, then measuring.\n",
    "\n",
    "qubits = cirq.LineQubit.range(2)\n",
    "circuit = cirq.Circuit(\n",
    "    cirq.H(qubits[0]),\n",
    "    cirq.CNOT(qubits[0], qubits[1]),\n",
    "    cirq.measure(*qubits, key='result')\n",
    ")"
   ]
  },
  {
   "cell_type": "code",
   "execution_count": 3,
   "metadata": {},
   "outputs": [
    {
     "name": "stdout",
     "output_type": "stream",
     "text": [
      "0: ───H───@───M('result')───\n",
      "          │   │\n",
      "1: ───────X───M─────────────\n"
     ]
    }
   ],
   "source": [
    "# Before submitting the job, we can visualize the circuit using print().\n",
    "\n",
    "print(circuit)"
   ]
  },
  {
   "cell_type": "markdown",
   "metadata": {},
   "source": [
    "## Transpiled Quantum Circuit"
   ]
  },
  {
   "cell_type": "code",
   "execution_count": 4,
   "metadata": {},
   "outputs": [
    {
     "ename": "AttributeError",
     "evalue": "module 'cirq_ionq' has no attribute 'AriaNativeGateset'",
     "output_type": "error",
     "traceback": [
      "\u001b[0;31m---------------------------------------------------------------------------\u001b[0m",
      "\u001b[0;31mAttributeError\u001b[0m                            Traceback (most recent call last)",
      "Cell \u001b[0;32mIn[4], line 4\u001b[0m\n\u001b[1;32m      1\u001b[0m \u001b[38;5;66;03m# We can transpile the circuit to Aria-1's native gateset\u001b[39;00m\n\u001b[1;32m      2\u001b[0m \u001b[38;5;66;03m# https://quantumai.google/reference/python/cirq/CompilationTargetGateset\u001b[39;00m\n\u001b[0;32m----> 4\u001b[0m transpiled_circuit \u001b[38;5;241m=\u001b[39m cirq\u001b[38;5;241m.\u001b[39moptimize_for_target_gateset(circuit, gateset\u001b[38;5;241m=\u001b[39m\u001b[43mcirq_ionq\u001b[49m\u001b[38;5;241;43m.\u001b[39;49m\u001b[43mAriaNativeGateset\u001b[49m())\n",
      "\u001b[0;31mAttributeError\u001b[0m: module 'cirq_ionq' has no attribute 'AriaNativeGateset'"
     ]
    }
   ],
   "source": [
    "# We can transpile the circuit to Aria-1's native gateset\n",
    "# https://quantumai.google/reference/python/cirq/CompilationTargetGateset\n",
    "\n",
    "transpiled_circuit = cirq.optimize_for_target_gateset(circuit, gateset=cirq_ionq.AriaNativeGateset())"
   ]
  },
  {
   "cell_type": "markdown",
   "metadata": {},
   "source": [
    "## Run Transpiled Circuit"
   ]
  },
  {
   "cell_type": "raw",
   "metadata": {},
   "source": [
    "# Now we'll send the job to our backend for processing.\n",
    "\n",
    "result = service.run(circuit=circuit, repetitions=1024, target=device)  \n",
    "\n",
    "# And once the job has run, we can plot the results.\n",
    "\n",
    "print(result.histogram(key=\"output\"))"
   ]
  }
 ],
 "metadata": {
  "kernelspec": {
   "display_name": "Python 3",
   "language": "python",
   "name": "python3"
  },
  "language_info": {
   "codemirror_mode": {
    "name": "ipython",
    "version": 3
   },
   "file_extension": ".py",
   "mimetype": "text/x-python",
   "name": "python",
   "nbconvert_exporter": "python",
   "pygments_lexer": "ipython3",
   "version": "3.11.6"
  }
 },
 "nbformat": 4,
 "nbformat_minor": 2
}
